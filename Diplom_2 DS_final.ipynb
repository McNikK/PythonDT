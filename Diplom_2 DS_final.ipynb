{
 "cells": [
  {
   "cell_type": "code",
   "execution_count": 1,
   "metadata": {},
   "outputs": [],
   "source": [
    "import pandas as pd\n",
    "import numpy as np\n",
    "import math\n",
    "import seaborn as sns\n",
    "from sklearn.model_selection import train_test_split\n",
    "from sklearn.model_selection import cross_val_score\n",
    "from sklearn.linear_model import LinearRegression\n",
    "from sklearn.metrics import mean_squared_error\n",
    "from sklearn.metrics import mean_absolute_error\n",
    "from sklearn.ensemble import RandomForestClassifier\n",
    "from sklearn.ensemble import RandomForestRegressor\n",
    "from sklearn.tree import DecisionTreeClassifier\n",
    "from sklearn.datasets import make_regression\n",
    "from sklearn.preprocessing import RobustScaler\n",
    "from sklearn.neighbors import KNeighborsClassifier\n",
    "from sklearn.model_selection import KFold, GridSearchCV\n",
    "from imblearn.over_sampling import SMOTE\n",
    "from sklearn.preprocessing import MinMaxScaler\n",
    "from sklearn.ensemble import GradientBoostingRegressor\n",
    "from sklearn.cluster import KMeans\n",
    "from sklearn.metrics import accuracy_score\n",
    "from sklearn.metrics import roc_auc_score\n",
    "from sklearn.model_selection import GridSearchCV\n",
    "from sklearn import preprocessing\n",
    "import matplotlib.pyplot as plt\n",
    "from sklearn.preprocessing import StandardScaler\n",
    "%matplotlib inline\n",
    "%config InlineBakend.figure_format = 'svg'\n",
    "from sklearn.svm import SVC\n",
    "from sklearn.metrics import r2_score\n",
    "from catboost import Pool, CatBoostRegressor\n",
    "from catboost import CatBoostClassifier\n",
    "from catboost import FeaturesData\n",
    "import catboost\n",
    "pd.set_option('display.max_columns', 500)\n",
    "from sklearn.metrics import classification_report, f1_score, precision_score, recall_score\n",
    "pd.options.display.float_format = '{:.2f}'.format\n"
   ]
  },
  {
   "cell_type": "code",
   "execution_count": 2,
   "metadata": {},
   "outputs": [],
   "source": [
    "def get_report(y_true, y_pred):\n",
    "    return print(classification_report(y_true, y_pred))\n"
   ]
  },
  {
   "cell_type": "code",
   "execution_count": 3,
   "metadata": {},
   "outputs": [],
   "source": [
    "def get_NaN(df):\n",
    "    nan_cols = [i for i in df.columns if df[i].isnull().any()]\n",
    "    print('NaN     Sum')\n",
    "    lst = []\n",
    "    for i in nan_cols:\n",
    "        lst.append(f'{i} = {df[i].isnull().sum()}')\n",
    "    return print('\\n'.join(lst))"
   ]
  },
  {
   "cell_type": "code",
   "execution_count": 4,
   "metadata": {},
   "outputs": [],
   "source": [
    "data = pd.read_csv(\"course_project_train.csv\")\n"
   ]
  },
  {
   "cell_type": "code",
   "execution_count": 5,
   "metadata": {},
   "outputs": [
    {
     "data": {
      "text/html": [
       "<div>\n",
       "<style scoped>\n",
       "    .dataframe tbody tr th:only-of-type {\n",
       "        vertical-align: middle;\n",
       "    }\n",
       "\n",
       "    .dataframe tbody tr th {\n",
       "        vertical-align: top;\n",
       "    }\n",
       "\n",
       "    .dataframe thead th {\n",
       "        text-align: right;\n",
       "    }\n",
       "</style>\n",
       "<table border=\"1\" class=\"dataframe\">\n",
       "  <thead>\n",
       "    <tr style=\"text-align: right;\">\n",
       "      <th></th>\n",
       "      <th>Annual Income</th>\n",
       "      <th>Tax Liens</th>\n",
       "      <th>Number of Open Accounts</th>\n",
       "      <th>Years of Credit History</th>\n",
       "      <th>Maximum Open Credit</th>\n",
       "      <th>Number of Credit Problems</th>\n",
       "      <th>Months since last delinquent</th>\n",
       "      <th>Bankruptcies</th>\n",
       "      <th>Current Loan Amount</th>\n",
       "      <th>Current Credit Balance</th>\n",
       "      <th>Monthly Debt</th>\n",
       "      <th>Credit Score</th>\n",
       "      <th>Credit Default</th>\n",
       "    </tr>\n",
       "  </thead>\n",
       "  <tbody>\n",
       "    <tr>\n",
       "      <th>count</th>\n",
       "      <td>5943.00</td>\n",
       "      <td>7500.00</td>\n",
       "      <td>7500.00</td>\n",
       "      <td>7500.00</td>\n",
       "      <td>7500.00</td>\n",
       "      <td>7500.00</td>\n",
       "      <td>3419.00</td>\n",
       "      <td>7486.00</td>\n",
       "      <td>7500.00</td>\n",
       "      <td>7500.00</td>\n",
       "      <td>7500.00</td>\n",
       "      <td>5943.00</td>\n",
       "      <td>7500.00</td>\n",
       "    </tr>\n",
       "    <tr>\n",
       "      <th>mean</th>\n",
       "      <td>1366391.72</td>\n",
       "      <td>0.03</td>\n",
       "      <td>11.13</td>\n",
       "      <td>18.32</td>\n",
       "      <td>945153.73</td>\n",
       "      <td>0.17</td>\n",
       "      <td>34.69</td>\n",
       "      <td>0.12</td>\n",
       "      <td>11873177.45</td>\n",
       "      <td>289833.24</td>\n",
       "      <td>18314.45</td>\n",
       "      <td>1151.09</td>\n",
       "      <td>0.28</td>\n",
       "    </tr>\n",
       "    <tr>\n",
       "      <th>std</th>\n",
       "      <td>845339.20</td>\n",
       "      <td>0.27</td>\n",
       "      <td>4.91</td>\n",
       "      <td>7.04</td>\n",
       "      <td>16026216.67</td>\n",
       "      <td>0.50</td>\n",
       "      <td>21.69</td>\n",
       "      <td>0.35</td>\n",
       "      <td>31926122.97</td>\n",
       "      <td>317871.38</td>\n",
       "      <td>11926.76</td>\n",
       "      <td>1604.45</td>\n",
       "      <td>0.45</td>\n",
       "    </tr>\n",
       "    <tr>\n",
       "      <th>min</th>\n",
       "      <td>164597.00</td>\n",
       "      <td>0.00</td>\n",
       "      <td>2.00</td>\n",
       "      <td>4.00</td>\n",
       "      <td>0.00</td>\n",
       "      <td>0.00</td>\n",
       "      <td>0.00</td>\n",
       "      <td>0.00</td>\n",
       "      <td>11242.00</td>\n",
       "      <td>0.00</td>\n",
       "      <td>0.00</td>\n",
       "      <td>585.00</td>\n",
       "      <td>0.00</td>\n",
       "    </tr>\n",
       "    <tr>\n",
       "      <th>25%</th>\n",
       "      <td>844341.00</td>\n",
       "      <td>0.00</td>\n",
       "      <td>8.00</td>\n",
       "      <td>13.50</td>\n",
       "      <td>279229.50</td>\n",
       "      <td>0.00</td>\n",
       "      <td>16.00</td>\n",
       "      <td>0.00</td>\n",
       "      <td>180169.00</td>\n",
       "      <td>114256.50</td>\n",
       "      <td>10067.50</td>\n",
       "      <td>711.00</td>\n",
       "      <td>0.00</td>\n",
       "    </tr>\n",
       "    <tr>\n",
       "      <th>50%</th>\n",
       "      <td>1168386.00</td>\n",
       "      <td>0.00</td>\n",
       "      <td>10.00</td>\n",
       "      <td>17.00</td>\n",
       "      <td>478159.00</td>\n",
       "      <td>0.00</td>\n",
       "      <td>32.00</td>\n",
       "      <td>0.00</td>\n",
       "      <td>309573.00</td>\n",
       "      <td>209323.00</td>\n",
       "      <td>16076.50</td>\n",
       "      <td>731.00</td>\n",
       "      <td>0.00</td>\n",
       "    </tr>\n",
       "    <tr>\n",
       "      <th>75%</th>\n",
       "      <td>1640137.00</td>\n",
       "      <td>0.00</td>\n",
       "      <td>14.00</td>\n",
       "      <td>21.80</td>\n",
       "      <td>793501.50</td>\n",
       "      <td>0.00</td>\n",
       "      <td>50.00</td>\n",
       "      <td>0.00</td>\n",
       "      <td>519882.00</td>\n",
       "      <td>360406.25</td>\n",
       "      <td>23818.00</td>\n",
       "      <td>743.00</td>\n",
       "      <td>1.00</td>\n",
       "    </tr>\n",
       "    <tr>\n",
       "      <th>max</th>\n",
       "      <td>10149344.00</td>\n",
       "      <td>7.00</td>\n",
       "      <td>43.00</td>\n",
       "      <td>57.70</td>\n",
       "      <td>1304726170.00</td>\n",
       "      <td>7.00</td>\n",
       "      <td>118.00</td>\n",
       "      <td>4.00</td>\n",
       "      <td>99999999.00</td>\n",
       "      <td>6506797.00</td>\n",
       "      <td>136679.00</td>\n",
       "      <td>7510.00</td>\n",
       "      <td>1.00</td>\n",
       "    </tr>\n",
       "  </tbody>\n",
       "</table>\n",
       "</div>"
      ],
      "text/plain": [
       "       Annual Income  Tax Liens  Number of Open Accounts  \\\n",
       "count        5943.00    7500.00                  7500.00   \n",
       "mean      1366391.72       0.03                    11.13   \n",
       "std        845339.20       0.27                     4.91   \n",
       "min        164597.00       0.00                     2.00   \n",
       "25%        844341.00       0.00                     8.00   \n",
       "50%       1168386.00       0.00                    10.00   \n",
       "75%       1640137.00       0.00                    14.00   \n",
       "max      10149344.00       7.00                    43.00   \n",
       "\n",
       "       Years of Credit History  Maximum Open Credit  \\\n",
       "count                  7500.00              7500.00   \n",
       "mean                     18.32            945153.73   \n",
       "std                       7.04          16026216.67   \n",
       "min                       4.00                 0.00   \n",
       "25%                      13.50            279229.50   \n",
       "50%                      17.00            478159.00   \n",
       "75%                      21.80            793501.50   \n",
       "max                      57.70        1304726170.00   \n",
       "\n",
       "       Number of Credit Problems  Months since last delinquent  Bankruptcies  \\\n",
       "count                    7500.00                       3419.00       7486.00   \n",
       "mean                        0.17                         34.69          0.12   \n",
       "std                         0.50                         21.69          0.35   \n",
       "min                         0.00                          0.00          0.00   \n",
       "25%                         0.00                         16.00          0.00   \n",
       "50%                         0.00                         32.00          0.00   \n",
       "75%                         0.00                         50.00          0.00   \n",
       "max                         7.00                        118.00          4.00   \n",
       "\n",
       "       Current Loan Amount  Current Credit Balance  Monthly Debt  \\\n",
       "count              7500.00                 7500.00       7500.00   \n",
       "mean           11873177.45               289833.24      18314.45   \n",
       "std            31926122.97               317871.38      11926.76   \n",
       "min               11242.00                    0.00          0.00   \n",
       "25%              180169.00               114256.50      10067.50   \n",
       "50%              309573.00               209323.00      16076.50   \n",
       "75%              519882.00               360406.25      23818.00   \n",
       "max            99999999.00              6506797.00     136679.00   \n",
       "\n",
       "       Credit Score  Credit Default  \n",
       "count       5943.00         7500.00  \n",
       "mean        1151.09            0.28  \n",
       "std         1604.45            0.45  \n",
       "min          585.00            0.00  \n",
       "25%          711.00            0.00  \n",
       "50%          731.00            0.00  \n",
       "75%          743.00            1.00  \n",
       "max         7510.00            1.00  "
      ]
     },
     "execution_count": 5,
     "metadata": {},
     "output_type": "execute_result"
    }
   ],
   "source": [
    "data.describe()"
   ]
  },
  {
   "cell_type": "markdown",
   "metadata": {},
   "source": [
    "### Введем dummies для категориальных features"
   ]
  },
  {
   "cell_type": "code",
   "execution_count": 6,
   "metadata": {},
   "outputs": [],
   "source": [
    "dm_purpose = pd.get_dummies(data['Purpose']+' (Purpose)')\n",
    "dm_ownership = pd.get_dummies(data['Home Ownership'] + ' (Ownership)') \n",
    "dm_term = pd.get_dummies(data['Term']+' (Term)')"
   ]
  },
  {
   "cell_type": "code",
   "execution_count": 7,
   "metadata": {
    "scrolled": true
   },
   "outputs": [],
   "source": [
    "df = pd.concat([data, dm_purpose, dm_ownership, dm_term], axis=1).drop(['Purpose', 'Home Ownership', 'Term'], axis=1)\n"
   ]
  },
  {
   "cell_type": "markdown",
   "metadata": {},
   "source": [
    "### Поработаем с выбросами данных"
   ]
  },
  {
   "cell_type": "code",
   "execution_count": 8,
   "metadata": {
    "scrolled": false
   },
   "outputs": [
    {
     "data": {
      "text/plain": [
       "<AxesSubplot:xlabel='Annual Income'>"
      ]
     },
     "execution_count": 8,
     "metadata": {},
     "output_type": "execute_result"
    },
    {
     "data": {
      "image/png": "[encoded data removed]",
      "text/plain": [
       "<Figure size 432x288 with 1 Axes>"
      ]
     },
     "metadata": {
      "needs_background": "light"
     },
     "output_type": "display_data"
    }
   ],
   "source": [
    "sns.boxplot(x=df['Annual Income'])"
   ]
  },
  {
   "cell_type": "code",
   "execution_count": 9,
   "metadata": {},
   "outputs": [],
   "source": [
    "df.loc[df['Annual Income'] > 3500000,'Annual Income'] = df['Annual Income'].mean()\n"
   ]
  },
  {
   "cell_type": "code",
   "execution_count": 10,
   "metadata": {},
   "outputs": [],
   "source": [
    "df.loc[df['Maximum Open Credit'] > 3500000,'Maximum Open Credit'] = df['Maximum Open Credit'].mean()\n",
    "    "
   ]
  },
  {
   "cell_type": "code",
   "execution_count": 11,
   "metadata": {
    "scrolled": true
   },
   "outputs": [
    {
     "name": "stderr",
     "output_type": "stream",
     "text": [
      "C:\\Users\\1\\anaconda3\\lib\\site-packages\\pandas\\core\\indexing.py:670: SettingWithCopyWarning: \n",
      "A value is trying to be set on a copy of a slice from a DataFrame\n",
      "\n",
      "See the caveats in the documentation: https://pandas.pydata.org/pandas-docs/stable/user_guide/indexing.html#returning-a-view-versus-a-copy\n",
      "  iloc._setitem_with_indexer(indexer, value)\n"
     ]
    }
   ],
   "source": [
    "df['Current Loan Amount'].loc[(df['Current Loan Amount']==99999999)] = 309573"
   ]
  },
  {
   "cell_type": "code",
   "execution_count": 12,
   "metadata": {},
   "outputs": [],
   "source": [
    "df.loc[df['Credit Score'] > 800,'Credit Score'] = df['Credit Score'].mean()\n"
   ]
  },
  {
   "cell_type": "markdown",
   "metadata": {},
   "source": [
    "### Уберем NaN"
   ]
  },
  {
   "cell_type": "code",
   "execution_count": 13,
   "metadata": {
    "scrolled": false
   },
   "outputs": [
    {
     "name": "stdout",
     "output_type": "stream",
     "text": [
      "NaN     Sum\n",
      "Annual Income = 1557\n",
      "Years in current job = 371\n",
      "Months since last delinquent = 4081\n",
      "Bankruptcies = 14\n",
      "Credit Score = 1557\n"
     ]
    }
   ],
   "source": [
    "get_NaN(df)"
   ]
  },
  {
   "cell_type": "code",
   "execution_count": 14,
   "metadata": {},
   "outputs": [
    {
     "name": "stderr",
     "output_type": "stream",
     "text": [
      "C:\\Users\\1\\anaconda3\\lib\\site-packages\\pandas\\core\\indexing.py:670: SettingWithCopyWarning: \n",
      "A value is trying to be set on a copy of a slice from a DataFrame\n",
      "\n",
      "See the caveats in the documentation: https://pandas.pydata.org/pandas-docs/stable/user_guide/indexing.html#returning-a-view-versus-a-copy\n",
      "  iloc._setitem_with_indexer(indexer, value)\n"
     ]
    }
   ],
   "source": [
    "df['Years in current job'].loc[(df['Years in current job'] == '< 1 year')] = 0"
   ]
  },
  {
   "cell_type": "code",
   "execution_count": 15,
   "metadata": {},
   "outputs": [
    {
     "data": {
      "text/plain": [
       "array([nan, '10+ years', '8 years', '6 years', '7 years', '5 years',\n",
       "       '1 year', 0, '4 years', '3 years', '2 years', '9 years'],\n",
       "      dtype=object)"
      ]
     },
     "execution_count": 15,
     "metadata": {},
     "output_type": "execute_result"
    }
   ],
   "source": [
    "df['Years in current job'].unique()"
   ]
  },
  {
   "cell_type": "code",
   "execution_count": 16,
   "metadata": {},
   "outputs": [],
   "source": [
    "df['Years in current job']  = df['Years in current job'].astype(str).str.extract('(\\d{1,})').fillna(-1).astype(int)\n"
   ]
  },
  {
   "cell_type": "code",
   "execution_count": 17,
   "metadata": {},
   "outputs": [],
   "source": [
    "df.loc[df['Years in current job'] == -1,'Years in current job'] = df['Years in current job'].mean()\n"
   ]
  },
  {
   "cell_type": "code",
   "execution_count": 18,
   "metadata": {
    "scrolled": true
   },
   "outputs": [],
   "source": [
    "df['Bankruptcies'] = df['Bankruptcies'].fillna(0.00)\n"
   ]
  },
  {
   "cell_type": "code",
   "execution_count": 19,
   "metadata": {},
   "outputs": [
    {
     "data": {
      "image/png": "[encoded data removed]",
      "text/plain": [
       "<Figure size 720x576 with 1 Axes>"
      ]
     },
     "metadata": {
      "needs_background": "light"
     },
     "output_type": "display_data"
    }
   ],
   "source": [
    "names = ['Years in current job', 'Tax Liens',\n",
    "       'Number of Open Accounts', 'Years of Credit History',\n",
    "       'Maximum Open Credit', 'Number of Credit Problems',\n",
    "       'Bankruptcies', 'Current Loan Amount',\n",
    "       'Current Credit Balance', 'Monthly Debt', 'Credit Score',\n",
    "       'business loan (Purpose)', 'buy a car (Purpose)',\n",
    "       'buy house (Purpose)', 'debt consolidation (Purpose)',\n",
    "       'educational expenses (Purpose)', 'home improvements (Purpose)',\n",
    "       'major purchase (Purpose)', 'medical bills (Purpose)',\n",
    "       'moving (Purpose)', 'other (Purpose)', 'renewable energy (Purpose)',\n",
    "       'small business (Purpose)', 'take a trip (Purpose)',\n",
    "       'vacation (Purpose)', 'wedding (Purpose)', 'Have Mortgage (Ownership)',\n",
    "       'Home Mortgage (Ownership)', 'Own Home (Ownership)', 'Rent (Ownership)',\n",
    "       'Long Term (Term)', 'Short Term (Term)', 'Months since last delinquent' ]\n",
    "corr_with_target_AI = df[names + ['Annual Income']].corr().iloc[:-1, -1].sort_values(ascending=False)\n",
    "plt.figure(figsize=(10, 8))\n",
    "\n",
    "sns.barplot(x=corr_with_target_AI.values, y=corr_with_target_AI.index)\n",
    "\n",
    "plt.title('Correlation with target variable')\n",
    "plt.show()"
   ]
  },
  {
   "cell_type": "markdown",
   "metadata": {},
   "source": [
    "######  Обучим моедль для поиска значения Annual Income"
   ]
  },
  {
   "cell_type": "code",
   "execution_count": 20,
   "metadata": {},
   "outputs": [],
   "source": [
    "names_ai = ['Years in current job', 'Tax Liens',\n",
    "       'Number of Open Accounts', 'Years of Credit History',\n",
    "       'Maximum Open Credit','Current Loan Amount',\n",
    "       'Current Credit Balance', 'Monthly Debt', 'Credit Score']\n",
    "df_ai = df[names_ai].loc[(df['Annual Income'].dropna().index)]\n",
    "target_ai = df['Annual Income'].loc[(df['Annual Income'].notna())]\n",
    "\n",
    "X_train_ai, X_test_ai, y_train_ai, y_test_ai = train_test_split(df_ai, target_ai, test_size  = 0.25, random_state = 42)\n"
   ]
  },
  {
   "cell_type": "code",
   "execution_count": 21,
   "metadata": {},
   "outputs": [
    {
     "name": "stdout",
     "output_type": "stream",
     "text": [
      "R^2 score = 0.4528\n"
     ]
    }
   ],
   "source": [
    "catreg_ai= CatBoostRegressor(verbose=False,n_estimators=1000, nan_mode='Min', od_type='Iter').fit(X_train_ai, y_train_ai)\n",
    "catreg_ai_pred = catreg_ai.predict(X_test_ai)\n",
    "\n",
    "print(f'R^2 score = {r2_score(y_test_ai, catreg_ai_pred):.4f}')"
   ]
  },
  {
   "cell_type": "code",
   "execution_count": 22,
   "metadata": {},
   "outputs": [],
   "source": [
    "ai_NaN = df.loc[df['Annual Income'].isna()]\n",
    "ai_NaN_data = ai_NaN.drop(['Annual Income'], axis=1)\n",
    "ai_NaN_predict = catreg_ai.predict(ai_NaN_data)"
   ]
  },
  {
   "cell_type": "code",
   "execution_count": 23,
   "metadata": {},
   "outputs": [],
   "source": [
    "df.loc[df['Annual Income'].isna(), ['Annual Income']] = ai_NaN_predict\n"
   ]
  },
  {
   "cell_type": "code",
   "execution_count": 24,
   "metadata": {},
   "outputs": [],
   "source": [
    "### Т.к. число строк с NaN Months since last delinquent более 50%, сделаем предположим, что NaN = 0\n",
    "df.loc[df['Months since last delinquent'].isna(), ['Months since last delinquent']] = 0"
   ]
  },
  {
   "cell_type": "code",
   "execution_count": 25,
   "metadata": {
    "scrolled": false
   },
   "outputs": [
    {
     "name": "stderr",
     "output_type": "stream",
     "text": [
      "C:\\Users\\1\\anaconda3\\lib\\site-packages\\pandas\\core\\indexing.py:670: SettingWithCopyWarning: \n",
      "A value is trying to be set on a copy of a slice from a DataFrame\n",
      "\n",
      "See the caveats in the documentation: https://pandas.pydata.org/pandas-docs/stable/user_guide/indexing.html#returning-a-view-versus-a-copy\n",
      "  iloc._setitem_with_indexer(indexer, value)\n"
     ]
    }
   ],
   "source": [
    "### Сдеаем предположение, что в случае default кредитный рейтинг должен должен упасть - поэтому заместим такие  значения min\n",
    "df['Credit Score'].loc[(df['Credit Default']==1)&(df['Credit Score'].isna())] = df['Credit Score'].min()"
   ]
  },
  {
   "cell_type": "code",
   "execution_count": 26,
   "metadata": {},
   "outputs": [
    {
     "name": "stderr",
     "output_type": "stream",
     "text": [
      "C:\\Users\\1\\anaconda3\\lib\\site-packages\\pandas\\core\\indexing.py:670: SettingWithCopyWarning: \n",
      "A value is trying to be set on a copy of a slice from a DataFrame\n",
      "\n",
      "See the caveats in the documentation: https://pandas.pydata.org/pandas-docs/stable/user_guide/indexing.html#returning-a-view-versus-a-copy\n",
      "  iloc._setitem_with_indexer(indexer, value)\n"
     ]
    }
   ],
   "source": [
    "### Сдеаем предположение о том, влияние основных коррелирующих параметров на Credit Score \n",
    "df['Credit Score'].loc[((df['Long Term (Term)']==1)&(df['Short Term (Term)']==0)\\\n",
    "                       &(df['Current Loan Amount']>=519882.00)&(df['Credit Score'].isna()))] = 711.00"
   ]
  },
  {
   "cell_type": "code",
   "execution_count": 27,
   "metadata": {},
   "outputs": [
    {
     "name": "stderr",
     "output_type": "stream",
     "text": [
      "C:\\Users\\1\\anaconda3\\lib\\site-packages\\pandas\\core\\indexing.py:670: SettingWithCopyWarning: \n",
      "A value is trying to be set on a copy of a slice from a DataFrame\n",
      "\n",
      "See the caveats in the documentation: https://pandas.pydata.org/pandas-docs/stable/user_guide/indexing.html#returning-a-view-versus-a-copy\n",
      "  iloc._setitem_with_indexer(indexer, value)\n"
     ]
    }
   ],
   "source": [
    "df['Credit Score'].loc[((df['Long Term (Term)']==0)&(df['Short Term (Term)']==1)\\\n",
    "                       &(df['Current Loan Amount']<=180169.00)&(df['Credit Score'].isna()))] = 743.00"
   ]
  },
  {
   "cell_type": "code",
   "execution_count": 28,
   "metadata": {},
   "outputs": [],
   "source": [
    "### оставшиеся позиции присвоем значение средней \n",
    "df.loc[df['Credit Score'].isna(), ['Credit Score']] = df['Credit Score'].mean()"
   ]
  },
  {
   "cell_type": "markdown",
   "metadata": {},
   "source": [
    "## Модель"
   ]
  },
  {
   "cell_type": "markdown",
   "metadata": {},
   "source": [
    "#### Используем методику oversampling метода SMOTE"
   ]
  },
  {
   "cell_type": "code",
   "execution_count": 29,
   "metadata": {},
   "outputs": [],
   "source": [
    "sm = SMOTE(random_state=42)"
   ]
  },
  {
   "cell_type": "code",
   "execution_count": 30,
   "metadata": {},
   "outputs": [],
   "source": [
    "imp_feature = ['Credit Score', 'Current Loan Amount','Short Term (Term)', 'Home Mortgage (Ownership)','Rent (Ownership)',\\\n",
    "           'Long Term (Term)']"
   ]
  },
  {
   "cell_type": "code",
   "execution_count": 31,
   "metadata": {},
   "outputs": [],
   "source": [
    "data_test = df[imp_feature]\n",
    "target = df['Credit Default']"
   ]
  },
  {
   "cell_type": "code",
   "execution_count": 32,
   "metadata": {},
   "outputs": [],
   "source": [
    "X_train, X_test, y_train, y_test = train_test_split(data_test, target, test_size=0.25, random_state = 42)"
   ]
  },
  {
   "cell_type": "code",
   "execution_count": 33,
   "metadata": {},
   "outputs": [],
   "source": [
    "X_train_res, y_train_res = sm.fit_resample(X_train, y_train)"
   ]
  },
  {
   "cell_type": "code",
   "execution_count": 34,
   "metadata": {
    "scrolled": true
   },
   "outputs": [],
   "source": [
    "cat_res = CatBoostClassifier(verbose=False).fit(X_train_res,y_train_res)"
   ]
  },
  {
   "cell_type": "code",
   "execution_count": 35,
   "metadata": {},
   "outputs": [],
   "source": [
    "pred_res = cat_res.predict(X_test)"
   ]
  },
  {
   "cell_type": "code",
   "execution_count": 36,
   "metadata": {},
   "outputs": [
    {
     "name": "stdout",
     "output_type": "stream",
     "text": [
      "              precision    recall  f1-score   support\n",
      "\n",
      "           0       0.83      0.91      0.87      1313\n",
      "           1       0.73      0.56      0.64       562\n",
      "\n",
      "    accuracy                           0.81      1875\n",
      "   macro avg       0.78      0.74      0.75      1875\n",
      "weighted avg       0.80      0.81      0.80      1875\n",
      "\n"
     ]
    }
   ],
   "source": [
    "get_report(y_test, pred_res)"
   ]
  },
  {
   "cell_type": "markdown",
   "metadata": {},
   "source": [
    "# Предскажем цену для тестового датасета"
   ]
  },
  {
   "cell_type": "code",
   "execution_count": 37,
   "metadata": {},
   "outputs": [],
   "source": [
    "dt = pd.read_csv('course_project_test.csv')\n",
    "dt = pd.DataFrame(dt)"
   ]
  },
  {
   "cell_type": "code",
   "execution_count": 38,
   "metadata": {
    "collapsed": true
   },
   "outputs": [
    {
     "name": "stdout",
     "output_type": "stream",
     "text": [
      "<class 'pandas.core.frame.DataFrame'>\n",
      "RangeIndex: 2500 entries, 0 to 2499\n",
      "Data columns (total 16 columns):\n",
      " #   Column                        Non-Null Count  Dtype  \n",
      "---  ------                        --------------  -----  \n",
      " 0   Home Ownership                2500 non-null   object \n",
      " 1   Annual Income                 1987 non-null   float64\n",
      " 2   Years in current job          2414 non-null   object \n",
      " 3   Tax Liens                     2500 non-null   float64\n",
      " 4   Number of Open Accounts       2500 non-null   float64\n",
      " 5   Years of Credit History       2500 non-null   float64\n",
      " 6   Maximum Open Credit           2500 non-null   float64\n",
      " 7   Number of Credit Problems     2500 non-null   float64\n",
      " 8   Months since last delinquent  1142 non-null   float64\n",
      " 9   Bankruptcies                  2497 non-null   float64\n",
      " 10  Purpose                       2500 non-null   object \n",
      " 11  Term                          2500 non-null   object \n",
      " 12  Current Loan Amount           2500 non-null   float64\n",
      " 13  Current Credit Balance        2500 non-null   float64\n",
      " 14  Monthly Debt                  2500 non-null   float64\n",
      " 15  Credit Score                  1987 non-null   float64\n",
      "dtypes: float64(12), object(4)\n",
      "memory usage: 312.6+ KB\n"
     ]
    }
   ],
   "source": [
    "dt.info()"
   ]
  },
  {
   "cell_type": "code",
   "execution_count": 39,
   "metadata": {},
   "outputs": [],
   "source": [
    "dm_purpose_dt = pd.get_dummies(dt['Purpose']+' (Purpose)')\n",
    "dm_ownership_dt = pd.get_dummies(dt['Home Ownership'] + ' (Ownership)') \n",
    "dm_term_dt = pd.get_dummies(dt['Term']+' (Term)')"
   ]
  },
  {
   "cell_type": "code",
   "execution_count": 40,
   "metadata": {},
   "outputs": [],
   "source": [
    "df_test = pd.concat([dt, dm_purpose_dt, dm_ownership_dt, dm_term_dt], axis=1).drop(['Purpose', 'Home Ownership', 'Term'], axis=1)\n"
   ]
  },
  {
   "cell_type": "code",
   "execution_count": 41,
   "metadata": {},
   "outputs": [
    {
     "name": "stderr",
     "output_type": "stream",
     "text": [
      "C:\\Users\\1\\anaconda3\\lib\\site-packages\\pandas\\core\\indexing.py:670: SettingWithCopyWarning: \n",
      "A value is trying to be set on a copy of a slice from a DataFrame\n",
      "\n",
      "See the caveats in the documentation: https://pandas.pydata.org/pandas-docs/stable/user_guide/indexing.html#returning-a-view-versus-a-copy\n",
      "  iloc._setitem_with_indexer(indexer, value)\n"
     ]
    }
   ],
   "source": [
    "df_test.loc[df_test['Annual Income'] > 3500000,'Annual Income'] = df_test['Annual Income'].mean()\n",
    "df_test.loc[df_test['Maximum Open Credit'] > 3500000,'Maximum Open Credit'] = df_test['Maximum Open Credit'].mean()\n",
    "df_test['Current Loan Amount'].loc[(df_test['Current Loan Amount']==99999999)] = 309573\n",
    "df_test.loc[df_test['Credit Score'] > 800,'Credit Score'] = df_test['Credit Score'].mean()\n"
   ]
  },
  {
   "cell_type": "markdown",
   "metadata": {},
   "source": [
    "### Уберем NaN"
   ]
  },
  {
   "cell_type": "code",
   "execution_count": 42,
   "metadata": {
    "scrolled": true
   },
   "outputs": [
    {
     "name": "stdout",
     "output_type": "stream",
     "text": [
      "NaN     Sum\n",
      "Annual Income = 513\n",
      "Years in current job = 86\n",
      "Months since last delinquent = 1358\n",
      "Bankruptcies = 3\n",
      "Credit Score = 513\n"
     ]
    }
   ],
   "source": [
    "get_NaN(df_test)"
   ]
  },
  {
   "cell_type": "code",
   "execution_count": 43,
   "metadata": {},
   "outputs": [
    {
     "name": "stderr",
     "output_type": "stream",
     "text": [
      "C:\\Users\\1\\anaconda3\\lib\\site-packages\\pandas\\core\\indexing.py:670: SettingWithCopyWarning: \n",
      "A value is trying to be set on a copy of a slice from a DataFrame\n",
      "\n",
      "See the caveats in the documentation: https://pandas.pydata.org/pandas-docs/stable/user_guide/indexing.html#returning-a-view-versus-a-copy\n",
      "  iloc._setitem_with_indexer(indexer, value)\n"
     ]
    }
   ],
   "source": [
    "df_test['Years in current job'].loc[(df_test['Years in current job'] == '< 1 year')] = 0"
   ]
  },
  {
   "cell_type": "code",
   "execution_count": 44,
   "metadata": {},
   "outputs": [],
   "source": [
    "df_test['Years in current job']  = df_test['Years in current job'].astype(str).str.extract('(\\d{1,})').fillna(-1).astype(int)\n",
    "df_test.loc[df_test['Years in current job'] == -1,'Years in current job'] = df_test['Years in current job'].mean()\n"
   ]
  },
  {
   "cell_type": "code",
   "execution_count": 45,
   "metadata": {},
   "outputs": [],
   "source": [
    "df_test['Bankruptcies'] = df_test['Bankruptcies'].fillna(0.00)\n"
   ]
  },
  {
   "cell_type": "markdown",
   "metadata": {},
   "source": [
    "######  Обучим моедль для поиска значения Annual Income"
   ]
  },
  {
   "cell_type": "code",
   "execution_count": 46,
   "metadata": {},
   "outputs": [],
   "source": [
    "names_ai = ['Years in current job', 'Tax Liens',\n",
    "       'Number of Open Accounts', 'Years of Credit History',\n",
    "       'Maximum Open Credit','Current Loan Amount',\n",
    "       'Current Credit Balance', 'Monthly Debt', 'Credit Score']\n",
    "df_ai_test = df_test[names_ai].loc[(df_test['Annual Income'].dropna().index)]\n",
    "target_ai_test = df_test['Annual Income'].loc[(df_test['Annual Income'].notna())]\n",
    "\n",
    "X_train_ai_test, X_test_ai_test, y_train_ai_test, y_test_ai_test = train_test_split(df_ai_test, target_ai_test, test_size  = 0.25, random_state = 42)"
   ]
  },
  {
   "cell_type": "code",
   "execution_count": 47,
   "metadata": {},
   "outputs": [
    {
     "name": "stdout",
     "output_type": "stream",
     "text": [
      "R^2 score = 0.3402\n"
     ]
    }
   ],
   "source": [
    "catreg_ai_test= CatBoostRegressor(verbose=False,n_estimators=1000, nan_mode='Min', od_type='Iter').fit(X_train_ai, y_train_ai)\n",
    "catreg_ai_pred_test = catreg_ai_test.predict(X_test_ai_test)\n",
    "\n",
    "print(f'R^2 score = {r2_score(y_test_ai_test, catreg_ai_pred_test):.4f}')"
   ]
  },
  {
   "cell_type": "code",
   "execution_count": 48,
   "metadata": {},
   "outputs": [],
   "source": [
    "ai_NaN_test = df_test.loc[df_test['Annual Income'].isna()]\n",
    "ai_NaN_data_test = ai_NaN_test.drop(['Annual Income'], axis=1)\n",
    "ai_NaN_predict_test = catreg_ai_test.predict(ai_NaN_data_test)"
   ]
  },
  {
   "cell_type": "code",
   "execution_count": 49,
   "metadata": {},
   "outputs": [],
   "source": [
    "df_test.loc[df_test['Annual Income'].isna(), ['Annual Income']] = ai_NaN_predict_test\n"
   ]
  },
  {
   "cell_type": "code",
   "execution_count": 50,
   "metadata": {},
   "outputs": [],
   "source": [
    "### Т.к. число строк с NaN Months since last delinquent более 50%, сделаем предположим, что NaN = 0\n",
    "df_test.loc[df_test['Months since last delinquent'].isna(), ['Months since last delinquent']] = 0"
   ]
  },
  {
   "cell_type": "code",
   "execution_count": 51,
   "metadata": {},
   "outputs": [
    {
     "name": "stderr",
     "output_type": "stream",
     "text": [
      "C:\\Users\\1\\anaconda3\\lib\\site-packages\\pandas\\core\\indexing.py:670: SettingWithCopyWarning: \n",
      "A value is trying to be set on a copy of a slice from a DataFrame\n",
      "\n",
      "See the caveats in the documentation: https://pandas.pydata.org/pandas-docs/stable/user_guide/indexing.html#returning-a-view-versus-a-copy\n",
      "  iloc._setitem_with_indexer(indexer, value)\n"
     ]
    }
   ],
   "source": [
    "### Сдеаем предположение о том, влияние основных коррелирующих параметров на Credit Score \n",
    "df_test['Credit Score'].loc[((df_test['Long Term (Term)']==1)&(df_test['Short Term (Term)']==0)\\\n",
    "                       &(df_test['Current Loan Amount']>=519882.00)&(df_test['Credit Score'].isna()))] = 711.00"
   ]
  },
  {
   "cell_type": "code",
   "execution_count": 52,
   "metadata": {},
   "outputs": [
    {
     "name": "stderr",
     "output_type": "stream",
     "text": [
      "C:\\Users\\1\\anaconda3\\lib\\site-packages\\pandas\\core\\indexing.py:670: SettingWithCopyWarning: \n",
      "A value is trying to be set on a copy of a slice from a DataFrame\n",
      "\n",
      "See the caveats in the documentation: https://pandas.pydata.org/pandas-docs/stable/user_guide/indexing.html#returning-a-view-versus-a-copy\n",
      "  iloc._setitem_with_indexer(indexer, value)\n"
     ]
    }
   ],
   "source": [
    "df_test['Credit Score'].loc[((df_test['Long Term (Term)']==0)&(df_test['Short Term (Term)']==1)\\\n",
    "                       &(df_test['Current Loan Amount']<=180169.00)&(df_test['Credit Score'].isna()))] = 743.00"
   ]
  },
  {
   "cell_type": "code",
   "execution_count": 53,
   "metadata": {},
   "outputs": [],
   "source": [
    "### оставшиеся позиции присвоем значение средней \n",
    "df_test.loc[df_test['Credit Score'].isna(), ['Credit Score']] = df_test['Credit Score'].mean()"
   ]
  },
  {
   "cell_type": "code",
   "execution_count": 54,
   "metadata": {},
   "outputs": [],
   "source": [
    "y_pred_test = pd.DataFrame(cat_res.predict(df_test[imp_feature]),\\\n",
    "                          index=df_test.index)"
   ]
  },
  {
   "cell_type": "code",
   "execution_count": 55,
   "metadata": {},
   "outputs": [],
   "source": [
    "df_test['Credit Default'] = y_pred_test[0]"
   ]
  },
  {
   "cell_type": "code",
   "execution_count": 56,
   "metadata": {
    "scrolled": true
   },
   "outputs": [
    {
     "name": "stdout",
     "output_type": "stream",
     "text": [
      "<class 'pandas.core.frame.DataFrame'>\n",
      "RangeIndex: 2500 entries, 0 to 2499\n",
      "Data columns (total 34 columns):\n",
      " #   Column                          Non-Null Count  Dtype  \n",
      "---  ------                          --------------  -----  \n",
      " 0   Annual Income                   2500 non-null   float64\n",
      " 1   Years in current job            2500 non-null   float64\n",
      " 2   Tax Liens                       2500 non-null   float64\n",
      " 3   Number of Open Accounts         2500 non-null   float64\n",
      " 4   Years of Credit History         2500 non-null   float64\n",
      " 5   Maximum Open Credit             2500 non-null   float64\n",
      " 6   Number of Credit Problems       2500 non-null   float64\n",
      " 7   Months since last delinquent    2500 non-null   float64\n",
      " 8   Bankruptcies                    2500 non-null   float64\n",
      " 9   Current Loan Amount             2500 non-null   float64\n",
      " 10  Current Credit Balance          2500 non-null   float64\n",
      " 11  Monthly Debt                    2500 non-null   float64\n",
      " 12  Credit Score                    2500 non-null   float64\n",
      " 13  business loan (Purpose)         2500 non-null   uint8  \n",
      " 14  buy a car (Purpose)             2500 non-null   uint8  \n",
      " 15  buy house (Purpose)             2500 non-null   uint8  \n",
      " 16  debt consolidation (Purpose)    2500 non-null   uint8  \n",
      " 17  educational expenses (Purpose)  2500 non-null   uint8  \n",
      " 18  home improvements (Purpose)     2500 non-null   uint8  \n",
      " 19  major purchase (Purpose)        2500 non-null   uint8  \n",
      " 20  medical bills (Purpose)         2500 non-null   uint8  \n",
      " 21  moving (Purpose)                2500 non-null   uint8  \n",
      " 22  other (Purpose)                 2500 non-null   uint8  \n",
      " 23  small business (Purpose)        2500 non-null   uint8  \n",
      " 24  take a trip (Purpose)           2500 non-null   uint8  \n",
      " 25  vacation (Purpose)              2500 non-null   uint8  \n",
      " 26  wedding (Purpose)               2500 non-null   uint8  \n",
      " 27  Have Mortgage (Ownership)       2500 non-null   uint8  \n",
      " 28  Home Mortgage (Ownership)       2500 non-null   uint8  \n",
      " 29  Own Home (Ownership)            2500 non-null   uint8  \n",
      " 30  Rent (Ownership)                2500 non-null   uint8  \n",
      " 31  Long Term (Term)                2500 non-null   uint8  \n",
      " 32  Short Term (Term)               2500 non-null   uint8  \n",
      " 33  Credit Default                  2500 non-null   int64  \n",
      "dtypes: float64(13), int64(1), uint8(20)\n",
      "memory usage: 322.4 KB\n"
     ]
    }
   ],
   "source": [
    "df_test.info()"
   ]
  },
  {
   "cell_type": "code",
   "execution_count": 57,
   "metadata": {},
   "outputs": [],
   "source": [
    "finita = df_test['Credit Default']"
   ]
  },
  {
   "cell_type": "code",
   "execution_count": 58,
   "metadata": {},
   "outputs": [],
   "source": [
    "finita.to_csv(r'Credit Default_test.csv')"
   ]
  },
  {
   "cell_type": "code",
   "execution_count": null,
   "metadata": {},
   "outputs": [],
   "source": []
  }
 ],
 "metadata": {
  "kernelspec": {
   "display_name": "Python 3",
   "language": "python",
   "name": "python3"
  },
  "language_info": {
   "codemirror_mode": {
    "name": "ipython",
    "version": 3
   },
   "file_extension": ".py",
   "mimetype": "text/x-python",
   "name": "python",
   "nbconvert_exporter": "python",
   "pygments_lexer": "ipython3",
   "version": "3.8.5"
  }
 },
 "nbformat": 4,
 "nbformat_minor": 4
}
